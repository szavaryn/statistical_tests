{
 "cells": [
  {
   "cell_type": "markdown",
   "id": "33a645da",
   "metadata": {},
   "source": [
    "# A/B testing\n",
    "\n",
    "Two-tailed unpaired test for proportions where a new landing page is tested, and subsequent user conversions are measured.\n",
    "\n",
    "The hypotheses are:\n",
    "- Null Hypothesis (H₀): There is no difference in conversion rates between Group A and Group B.\n",
    "- Alternative Hypothesis (H₁): There is a difference in conversion rates between Group A and Group B."
   ]
  },
  {
   "cell_type": "code",
   "execution_count": 1,
   "id": "8d660a42",
   "metadata": {},
   "outputs": [],
   "source": [
    "import pandas as pd\n",
    "import numpy as np\n",
    "from scipy.stats import norm\n",
    "import matplotlib.pyplot as plt\n",
    "import seaborn as sns\n",
    "\n",
    "import warnings\n",
    "warnings.filterwarnings(\"ignore\")\n",
    "\n",
    "import kagglehub\n",
    "import os"
   ]
  },
  {
   "cell_type": "markdown",
   "id": "f473ee09",
   "metadata": {},
   "source": [
    "# Import dataset\n",
    "\n",
    "Kaggle dataset is used: https://www.kaggle.com/datasets/zhangluyuan/ab-testing"
   ]
  },
  {
   "cell_type": "code",
   "execution_count": 2,
   "id": "60d05d4d",
   "metadata": {},
   "outputs": [
    {
     "data": {
      "text/html": [
       "<div>\n",
       "<style scoped>\n",
       "    .dataframe tbody tr th:only-of-type {\n",
       "        vertical-align: middle;\n",
       "    }\n",
       "\n",
       "    .dataframe tbody tr th {\n",
       "        vertical-align: top;\n",
       "    }\n",
       "\n",
       "    .dataframe thead th {\n",
       "        text-align: right;\n",
       "    }\n",
       "</style>\n",
       "<table border=\"1\" class=\"dataframe\">\n",
       "  <thead>\n",
       "    <tr style=\"text-align: right;\">\n",
       "      <th></th>\n",
       "      <th>user_id</th>\n",
       "      <th>timestamp</th>\n",
       "      <th>group</th>\n",
       "      <th>landing_page</th>\n",
       "      <th>converted</th>\n",
       "    </tr>\n",
       "  </thead>\n",
       "  <tbody>\n",
       "    <tr>\n",
       "      <th>0</th>\n",
       "      <td>851104</td>\n",
       "      <td>2017-01-21 22:11:48.556739</td>\n",
       "      <td>control</td>\n",
       "      <td>old_page</td>\n",
       "      <td>0</td>\n",
       "    </tr>\n",
       "    <tr>\n",
       "      <th>1</th>\n",
       "      <td>804228</td>\n",
       "      <td>2017-01-12 08:01:45.159739</td>\n",
       "      <td>control</td>\n",
       "      <td>old_page</td>\n",
       "      <td>0</td>\n",
       "    </tr>\n",
       "    <tr>\n",
       "      <th>2</th>\n",
       "      <td>661590</td>\n",
       "      <td>2017-01-11 16:55:06.154213</td>\n",
       "      <td>treatment</td>\n",
       "      <td>new_page</td>\n",
       "      <td>0</td>\n",
       "    </tr>\n",
       "    <tr>\n",
       "      <th>3</th>\n",
       "      <td>853541</td>\n",
       "      <td>2017-01-08 18:28:03.143765</td>\n",
       "      <td>treatment</td>\n",
       "      <td>new_page</td>\n",
       "      <td>0</td>\n",
       "    </tr>\n",
       "    <tr>\n",
       "      <th>4</th>\n",
       "      <td>864975</td>\n",
       "      <td>2017-01-21 01:52:26.210827</td>\n",
       "      <td>control</td>\n",
       "      <td>old_page</td>\n",
       "      <td>1</td>\n",
       "    </tr>\n",
       "  </tbody>\n",
       "</table>\n",
       "</div>"
      ],
      "text/plain": [
       "   user_id                   timestamp      group landing_page  converted\n",
       "0   851104  2017-01-21 22:11:48.556739    control     old_page          0\n",
       "1   804228  2017-01-12 08:01:45.159739    control     old_page          0\n",
       "2   661590  2017-01-11 16:55:06.154213  treatment     new_page          0\n",
       "3   853541  2017-01-08 18:28:03.143765  treatment     new_page          0\n",
       "4   864975  2017-01-21 01:52:26.210827    control     old_page          1"
      ]
     },
     "execution_count": 2,
     "metadata": {},
     "output_type": "execute_result"
    }
   ],
   "source": [
    "path = kagglehub.dataset_download(\"zhangluyuan/ab-testing\")\n",
    "df_kaggle = pd.read_csv(path + \"\\\\\" + os.listdir(path)[0])\n",
    "df_kaggle.head()"
   ]
  },
  {
   "cell_type": "markdown",
   "id": "ba3f7cab",
   "metadata": {},
   "source": [
    "# EDA"
   ]
  },
  {
   "cell_type": "code",
   "execution_count": 3,
   "id": "36f6c563",
   "metadata": {},
   "outputs": [],
   "source": [
    "def explore_dataset(\n",
    "    in_df: pd.DataFrame\n",
    "    , in_ids: tuple\n",
    "    , in_types_dict: dict\n",
    "    , out_size_text = \"- dataset size\"\n",
    "    , out_dup_text = \"- number of fully duplicated rows\"\n",
    "    , out_missed_text = \"Columns are expected but not found in the dataset: \"\n",
    ") -> pd.DataFrame:\n",
    "    \"\"\"\n",
    "    Quick dataset overview for EDA\n",
    "    \"\"\"\n",
    "    print(f\"{in_df.shape[0]} {out_size_text}\")\n",
    "    print(f\"{in_df.duplicated().sum()} {out_dup_text}\")\n",
    "    \n",
    "    for ids in in_ids:\n",
    "        dup_ids = in_df[ids].duplicated().sum()\n",
    "        if dup_ids > 0:\n",
    "            print(f\"{dup_ids} - number of duplicated {ids}\")\n",
    "        else:\n",
    "            print(f\"No duplicated {ids}\")\n",
    "    \n",
    "    out_df = pd.DataFrame(in_df.dtypes, columns=[\"primary_type\"])\\\n",
    "                            .reset_index()\\\n",
    "                            .rename(columns={\"index\": \"column\"})\n",
    "    out_df[\"desired_type\"] = out_df[\"column\"].map(in_types_dict)\n",
    "    out_df['count'] = in_df.count().values\n",
    "    out_df['null_values'] = in_df.isnull().sum().values\n",
    "    out_df['unique_values'] = in_df.nunique().values\n",
    "    \n",
    "    missing_columns = [col for col in in_types_dict.keys() if col not in in_df.columns]\n",
    "    if missing_columns:\n",
    "        print(f\"{out_missed_text} {missing_columns}\")\n",
    "    \n",
    "    return out_df"
   ]
  },
  {
   "cell_type": "code",
   "execution_count": 4,
   "id": "675247bd",
   "metadata": {},
   "outputs": [
    {
     "name": "stdout",
     "output_type": "stream",
     "text": [
      "294478 - dataset size\n",
      "0 - number of fully duplicated rows\n",
      "3894 - number of duplicated user_id\n"
     ]
    },
    {
     "data": {
      "text/html": [
       "<div>\n",
       "<style scoped>\n",
       "    .dataframe tbody tr th:only-of-type {\n",
       "        vertical-align: middle;\n",
       "    }\n",
       "\n",
       "    .dataframe tbody tr th {\n",
       "        vertical-align: top;\n",
       "    }\n",
       "\n",
       "    .dataframe thead th {\n",
       "        text-align: right;\n",
       "    }\n",
       "</style>\n",
       "<table border=\"1\" class=\"dataframe\">\n",
       "  <thead>\n",
       "    <tr style=\"text-align: right;\">\n",
       "      <th></th>\n",
       "      <th>column</th>\n",
       "      <th>primary_type</th>\n",
       "      <th>desired_type</th>\n",
       "      <th>count</th>\n",
       "      <th>null_values</th>\n",
       "      <th>unique_values</th>\n",
       "    </tr>\n",
       "  </thead>\n",
       "  <tbody>\n",
       "    <tr>\n",
       "      <th>0</th>\n",
       "      <td>user_id</td>\n",
       "      <td>int64</td>\n",
       "      <td>&lt;class 'int'&gt;</td>\n",
       "      <td>294478</td>\n",
       "      <td>0</td>\n",
       "      <td>290584</td>\n",
       "    </tr>\n",
       "    <tr>\n",
       "      <th>1</th>\n",
       "      <td>timestamp</td>\n",
       "      <td>object</td>\n",
       "      <td>&lt;class 'object'&gt;</td>\n",
       "      <td>294478</td>\n",
       "      <td>0</td>\n",
       "      <td>294478</td>\n",
       "    </tr>\n",
       "    <tr>\n",
       "      <th>2</th>\n",
       "      <td>group</td>\n",
       "      <td>object</td>\n",
       "      <td>&lt;class 'object'&gt;</td>\n",
       "      <td>294478</td>\n",
       "      <td>0</td>\n",
       "      <td>2</td>\n",
       "    </tr>\n",
       "    <tr>\n",
       "      <th>3</th>\n",
       "      <td>landing_page</td>\n",
       "      <td>object</td>\n",
       "      <td>&lt;class 'object'&gt;</td>\n",
       "      <td>294478</td>\n",
       "      <td>0</td>\n",
       "      <td>2</td>\n",
       "    </tr>\n",
       "    <tr>\n",
       "      <th>4</th>\n",
       "      <td>converted</td>\n",
       "      <td>int64</td>\n",
       "      <td>&lt;class 'int'&gt;</td>\n",
       "      <td>294478</td>\n",
       "      <td>0</td>\n",
       "      <td>2</td>\n",
       "    </tr>\n",
       "  </tbody>\n",
       "</table>\n",
       "</div>"
      ],
      "text/plain": [
       "         column primary_type      desired_type   count  null_values  \\\n",
       "0       user_id        int64     <class 'int'>  294478            0   \n",
       "1     timestamp       object  <class 'object'>  294478            0   \n",
       "2         group       object  <class 'object'>  294478            0   \n",
       "3  landing_page       object  <class 'object'>  294478            0   \n",
       "4     converted        int64     <class 'int'>  294478            0   \n",
       "\n",
       "   unique_values  \n",
       "0         290584  \n",
       "1         294478  \n",
       "2              2  \n",
       "3              2  \n",
       "4              2  "
      ]
     },
     "execution_count": 4,
     "metadata": {},
     "output_type": "execute_result"
    }
   ],
   "source": [
    "explore_dataset(\n",
    "    df_kaggle\n",
    "    , (\"user_id\",)\n",
    "    , {\n",
    "        \"user_id\": int\n",
    "        , \"timestamp\": object\n",
    "        , \"group\": object\n",
    "        , \"landing_page\": object\n",
    "        , \"converted\": int\n",
    "    }\n",
    ")"
   ]
  },
  {
   "cell_type": "markdown",
   "id": "51124c8d",
   "metadata": {},
   "source": [
    "As we can see, 3894 user_ids are duplicated. Let's take a look on some examples."
   ]
  },
  {
   "cell_type": "markdown",
   "id": "29a878fa",
   "metadata": {},
   "source": [
    "## Duplicated data"
   ]
  },
  {
   "cell_type": "code",
   "execution_count": 5,
   "id": "bf5b8706",
   "metadata": {},
   "outputs": [
    {
     "data": {
      "text/html": [
       "<div>\n",
       "<style scoped>\n",
       "    .dataframe tbody tr th:only-of-type {\n",
       "        vertical-align: middle;\n",
       "    }\n",
       "\n",
       "    .dataframe tbody tr th {\n",
       "        vertical-align: top;\n",
       "    }\n",
       "\n",
       "    .dataframe thead th {\n",
       "        text-align: right;\n",
       "    }\n",
       "</style>\n",
       "<table border=\"1\" class=\"dataframe\">\n",
       "  <thead>\n",
       "    <tr style=\"text-align: right;\">\n",
       "      <th></th>\n",
       "      <th>user_id</th>\n",
       "      <th>timestamp</th>\n",
       "    </tr>\n",
       "  </thead>\n",
       "  <tbody>\n",
       "    <tr>\n",
       "      <th>91655</th>\n",
       "      <td>729669</td>\n",
       "      <td>2</td>\n",
       "    </tr>\n",
       "    <tr>\n",
       "      <th>179531</th>\n",
       "      <td>825266</td>\n",
       "      <td>2</td>\n",
       "    </tr>\n",
       "  </tbody>\n",
       "</table>\n",
       "</div>"
      ],
      "text/plain": [
       "        user_id  timestamp\n",
       "91655    729669          2\n",
       "179531   825266          2"
      ]
     },
     "execution_count": 5,
     "metadata": {},
     "output_type": "execute_result"
    }
   ],
   "source": [
    "df_kaggle.groupby(\"user_id\").count()[\"timestamp\"].reset_index().sort_values(by = \"timestamp\", ascending = False)[:2]"
   ]
  },
  {
   "cell_type": "code",
   "execution_count": 6,
   "id": "f84ace17",
   "metadata": {},
   "outputs": [
    {
     "data": {
      "text/html": [
       "<div>\n",
       "<style scoped>\n",
       "    .dataframe tbody tr th:only-of-type {\n",
       "        vertical-align: middle;\n",
       "    }\n",
       "\n",
       "    .dataframe tbody tr th {\n",
       "        vertical-align: top;\n",
       "    }\n",
       "\n",
       "    .dataframe thead th {\n",
       "        text-align: right;\n",
       "    }\n",
       "</style>\n",
       "<table border=\"1\" class=\"dataframe\">\n",
       "  <thead>\n",
       "    <tr style=\"text-align: right;\">\n",
       "      <th></th>\n",
       "      <th>user_id</th>\n",
       "      <th>timestamp</th>\n",
       "      <th>group</th>\n",
       "      <th>landing_page</th>\n",
       "      <th>converted</th>\n",
       "    </tr>\n",
       "  </thead>\n",
       "  <tbody>\n",
       "    <tr>\n",
       "      <th>23245</th>\n",
       "      <td>729669</td>\n",
       "      <td>2017-01-19 19:36:06.004887</td>\n",
       "      <td>treatment</td>\n",
       "      <td>new_page</td>\n",
       "      <td>1</td>\n",
       "    </tr>\n",
       "    <tr>\n",
       "      <th>222921</th>\n",
       "      <td>729669</td>\n",
       "      <td>2017-01-14 12:54:09.480949</td>\n",
       "      <td>treatment</td>\n",
       "      <td>old_page</td>\n",
       "      <td>1</td>\n",
       "    </tr>\n",
       "  </tbody>\n",
       "</table>\n",
       "</div>"
      ],
      "text/plain": [
       "        user_id                   timestamp      group landing_page  converted\n",
       "23245    729669  2017-01-19 19:36:06.004887  treatment     new_page          1\n",
       "222921   729669  2017-01-14 12:54:09.480949  treatment     old_page          1"
      ]
     },
     "execution_count": 6,
     "metadata": {},
     "output_type": "execute_result"
    }
   ],
   "source": [
    "df_kaggle[df_kaggle[\"user_id\"] == 729669]"
   ]
  },
  {
   "cell_type": "markdown",
   "id": "1f5f809d",
   "metadata": {},
   "source": [
    "It seems to be quiet logical that users from control group see old page, while new page is related to treatment group."
   ]
  },
  {
   "cell_type": "code",
   "execution_count": 7,
   "id": "c912e778",
   "metadata": {},
   "outputs": [
    {
     "data": {
      "text/html": [
       "<div>\n",
       "<style scoped>\n",
       "    .dataframe tbody tr th:only-of-type {\n",
       "        vertical-align: middle;\n",
       "    }\n",
       "\n",
       "    .dataframe tbody tr th {\n",
       "        vertical-align: top;\n",
       "    }\n",
       "\n",
       "    .dataframe thead th {\n",
       "        text-align: right;\n",
       "    }\n",
       "</style>\n",
       "<table border=\"1\" class=\"dataframe\">\n",
       "  <thead>\n",
       "    <tr style=\"text-align: right;\">\n",
       "      <th></th>\n",
       "      <th></th>\n",
       "      <th>user_id</th>\n",
       "      <th>timestamp</th>\n",
       "      <th>converted</th>\n",
       "    </tr>\n",
       "    <tr>\n",
       "      <th>group</th>\n",
       "      <th>landing_page</th>\n",
       "      <th></th>\n",
       "      <th></th>\n",
       "      <th></th>\n",
       "    </tr>\n",
       "  </thead>\n",
       "  <tbody>\n",
       "    <tr>\n",
       "      <th rowspan=\"2\" valign=\"top\">control</th>\n",
       "      <th>new_page</th>\n",
       "      <td>1928</td>\n",
       "      <td>1928</td>\n",
       "      <td>1928</td>\n",
       "    </tr>\n",
       "    <tr>\n",
       "      <th>old_page</th>\n",
       "      <td>145274</td>\n",
       "      <td>145274</td>\n",
       "      <td>145274</td>\n",
       "    </tr>\n",
       "    <tr>\n",
       "      <th rowspan=\"2\" valign=\"top\">treatment</th>\n",
       "      <th>new_page</th>\n",
       "      <td>145311</td>\n",
       "      <td>145311</td>\n",
       "      <td>145311</td>\n",
       "    </tr>\n",
       "    <tr>\n",
       "      <th>old_page</th>\n",
       "      <td>1965</td>\n",
       "      <td>1965</td>\n",
       "      <td>1965</td>\n",
       "    </tr>\n",
       "  </tbody>\n",
       "</table>\n",
       "</div>"
      ],
      "text/plain": [
       "                        user_id  timestamp  converted\n",
       "group     landing_page                               \n",
       "control   new_page         1928       1928       1928\n",
       "          old_page       145274     145274     145274\n",
       "treatment new_page       145311     145311     145311\n",
       "          old_page         1965       1965       1965"
      ]
     },
     "execution_count": 7,
     "metadata": {},
     "output_type": "execute_result"
    }
   ],
   "source": [
    "df_kaggle.groupby([\"group\", \"landing_page\"]).count()"
   ]
  },
  {
   "cell_type": "markdown",
   "id": "35caaf41",
   "metadata": {},
   "source": [
    "However, some amount of customers sees both, which should be incorrect."
   ]
  },
  {
   "cell_type": "code",
   "execution_count": 8,
   "id": "894bddd9",
   "metadata": {},
   "outputs": [
    {
     "name": "stdout",
     "output_type": "stream",
     "text": [
      "\n",
      "Users who see:\n",
      "- old_page twice: 974\n",
      "- new_page twice: 922\n",
      "- both old and new: 1998\n",
      "\n",
      "Total: 3894\n",
      "\n"
     ]
    }
   ],
   "source": [
    "df_dup = df_kaggle.groupby(\"user_id\").count()[\"timestamp\"].reset_index()\n",
    "df_dup = df_dup[df_dup[\"timestamp\"] == 2].rename(columns = {\"timestamp\": \"cnt\"})\n",
    "\n",
    "df_new_page = df_kaggle[df_kaggle[\"landing_page\"] == \"new_page\"].groupby(\"user_id\").count()[\"timestamp\"].reset_index()\n",
    "df_new_page = df_new_page[df_new_page[\"timestamp\"] == 2].rename(columns = {\"timestamp\": \"cnt_new\"})\n",
    "\n",
    "df_old_page = df_kaggle[df_kaggle[\"landing_page\"] == \"old_page\"].groupby(\"user_id\").count()[\"timestamp\"].reset_index()\n",
    "df_old_page = df_old_page[df_old_page[\"timestamp\"] == 2].rename(columns = {\"timestamp\": \"cnt_old\"})\n",
    "\n",
    "df_dup_check = df_kaggle.merge(df_dup, on = \"user_id\", how = \"left\")\n",
    "df_dup_check = df_dup_check.merge(df_new_page, on = \"user_id\", how = \"left\")\n",
    "df_dup_check = df_dup_check.merge(df_old_page, on = \"user_id\", how = \"left\")\n",
    "\n",
    "print(f\"\"\"\n",
    "Users who see:\n",
    "- old_page twice: {len(set(df_dup_check[df_dup_check[\"cnt_old\"] == 2][\"user_id\"]))}\n",
    "- new_page twice: {len(set(df_dup_check[df_dup_check[\"cnt_new\"] == 2][\"user_id\"]))}\n",
    "- both old and new: {len(set(df_dup_check[\n",
    "                        (df_dup_check[\"cnt\"] == 2) \n",
    "                        & (df_dup_check[\"cnt_new\"].isnull()) \n",
    "                        & (df_dup_check[\"cnt_old\"].isnull())\n",
    "                    ][\"user_id\"]))}\n",
    "\n",
    "Total: {\n",
    "len(set(df_dup_check[df_dup_check[\"cnt_old\"] == 2][\"user_id\"]))\n",
    "+ len(set(df_dup_check[df_dup_check[\"cnt_new\"] == 2][\"user_id\"]))\n",
    "+ len(set(df_dup_check[\n",
    "                        (df_dup_check[\"cnt\"] == 2) \n",
    "                        & (df_dup_check[\"cnt_new\"].isnull()) \n",
    "                        & (df_dup_check[\"cnt_old\"].isnull())\n",
    "                    ][\"user_id\"]))\n",
    "}\n",
    "\"\"\")"
   ]
  },
  {
   "cell_type": "markdown",
   "id": "e30ef003",
   "metadata": {},
   "source": [
    "## Timestamps\n",
    "\n",
    "Now let's take a look on timestamp data: min, max and the distribution between them."
   ]
  },
  {
   "cell_type": "code",
   "execution_count": 9,
   "id": "f4b1f59a",
   "metadata": {},
   "outputs": [
    {
     "name": "stdout",
     "output_type": "stream",
     "text": [
      "Min date: 2017-01-02 13:42:05.378582, Max date: 2017-01-24 13:41:54.460509\n"
     ]
    }
   ],
   "source": [
    "print(f'Min date: {min(df_kaggle[\"timestamp\"])}, Max date: {max(df_kaggle[\"timestamp\"])}')"
   ]
  },
  {
   "cell_type": "code",
   "execution_count": 10,
   "id": "77ebe7e3",
   "metadata": {},
   "outputs": [
    {
     "data": {
      "image/png": "[encoded data removed]",
      "text/plain": [
       "<Figure size 640x480 with 1 Axes>"
      ]
     },
     "metadata": {},
     "output_type": "display_data"
    }
   ],
   "source": [
    "df_dt = df_kaggle.copy()\n",
    "df_dt[\"day\"] = df_dt[\"timestamp\"].apply(lambda x: x[8:10])\n",
    "\n",
    "system_hist = sns.histplot(\n",
    "    df_dt.sort_values(by = \"day\")\n",
    "    , x = \"day\"\n",
    "    , palette = \"light:m_r\"\n",
    "    , edgecolor = \".3\"\n",
    "    , linewidth = 1\n",
    ")"
   ]
  },
  {
   "cell_type": "markdown",
   "id": "e5615be7",
   "metadata": {},
   "source": [
    "## Conclusions\n",
    "\n",
    "While seeing both old and new pages looks like a bug, we still can consider double views of the same page as a correct pattern - if the dataset if aggregated on event level, not on user one.\n",
    "\n",
    "However, comparatevily small amount of these groups looks like a bug, so the analysis is prepared taking into account following assumptions: \n",
    "- Only first view of user is included into the dataset\n",
    "- Column 'group' is dropped, while users who have firstly seen 'old_page' are considered as control group, and respectively first 'new_page' is a treatment group.\n",
    "- Column 'timestamp' is dropped, the data is distributed evenly, the expirment was started at 2017-01-02 and stopped at 2017-01-24, only the first and the last days contain less data."
   ]
  },
  {
   "cell_type": "code",
   "execution_count": 11,
   "id": "3d66d89a",
   "metadata": {},
   "outputs": [
    {
     "name": "stdout",
     "output_type": "stream",
     "text": [
      "290584 - dataset size\n",
      "0 - number of fully duplicated rows\n",
      "No duplicated user_id\n"
     ]
    },
    {
     "data": {
      "text/html": [
       "<div>\n",
       "<style scoped>\n",
       "    .dataframe tbody tr th:only-of-type {\n",
       "        vertical-align: middle;\n",
       "    }\n",
       "\n",
       "    .dataframe tbody tr th {\n",
       "        vertical-align: top;\n",
       "    }\n",
       "\n",
       "    .dataframe thead th {\n",
       "        text-align: right;\n",
       "    }\n",
       "</style>\n",
       "<table border=\"1\" class=\"dataframe\">\n",
       "  <thead>\n",
       "    <tr style=\"text-align: right;\">\n",
       "      <th></th>\n",
       "      <th>column</th>\n",
       "      <th>primary_type</th>\n",
       "      <th>desired_type</th>\n",
       "      <th>count</th>\n",
       "      <th>null_values</th>\n",
       "      <th>unique_values</th>\n",
       "    </tr>\n",
       "  </thead>\n",
       "  <tbody>\n",
       "    <tr>\n",
       "      <th>0</th>\n",
       "      <td>user_id</td>\n",
       "      <td>int64</td>\n",
       "      <td>&lt;class 'int'&gt;</td>\n",
       "      <td>290584</td>\n",
       "      <td>0</td>\n",
       "      <td>290584</td>\n",
       "    </tr>\n",
       "    <tr>\n",
       "      <th>1</th>\n",
       "      <td>timestamp</td>\n",
       "      <td>datetime64[ns]</td>\n",
       "      <td>datetime64[ns]</td>\n",
       "      <td>290584</td>\n",
       "      <td>0</td>\n",
       "      <td>290584</td>\n",
       "    </tr>\n",
       "    <tr>\n",
       "      <th>2</th>\n",
       "      <td>group</td>\n",
       "      <td>object</td>\n",
       "      <td>&lt;class 'object'&gt;</td>\n",
       "      <td>290584</td>\n",
       "      <td>0</td>\n",
       "      <td>2</td>\n",
       "    </tr>\n",
       "    <tr>\n",
       "      <th>3</th>\n",
       "      <td>landing_page</td>\n",
       "      <td>object</td>\n",
       "      <td>&lt;class 'object'&gt;</td>\n",
       "      <td>290584</td>\n",
       "      <td>0</td>\n",
       "      <td>2</td>\n",
       "    </tr>\n",
       "    <tr>\n",
       "      <th>4</th>\n",
       "      <td>converted</td>\n",
       "      <td>int64</td>\n",
       "      <td>&lt;class 'int'&gt;</td>\n",
       "      <td>290584</td>\n",
       "      <td>0</td>\n",
       "      <td>2</td>\n",
       "    </tr>\n",
       "  </tbody>\n",
       "</table>\n",
       "</div>"
      ],
      "text/plain": [
       "         column    primary_type      desired_type   count  null_values  \\\n",
       "0       user_id           int64     <class 'int'>  290584            0   \n",
       "1     timestamp  datetime64[ns]    datetime64[ns]  290584            0   \n",
       "2         group          object  <class 'object'>  290584            0   \n",
       "3  landing_page          object  <class 'object'>  290584            0   \n",
       "4     converted           int64     <class 'int'>  290584            0   \n",
       "\n",
       "   unique_values  \n",
       "0         290584  \n",
       "1         290584  \n",
       "2              2  \n",
       "3              2  \n",
       "4              2  "
      ]
     },
     "execution_count": 11,
     "metadata": {},
     "output_type": "execute_result"
    }
   ],
   "source": [
    "df_an = df_kaggle.copy()\n",
    "df_min_date = df_kaggle.copy()\n",
    "#cause it's string\n",
    "df_min_date[\"timestamp\"] = pd.to_datetime(df_min_date[\"timestamp\"])\n",
    "df_an[\"timestamp\"] = pd.to_datetime(df_an[\"timestamp\"])\n",
    "\n",
    "df_min_date = df_min_date.groupby(\"user_id\").min()[\"timestamp\"].reset_index()\n",
    "df_an = df_an.merge(df_min_date, on = [\"user_id\", \"timestamp\"], how = \"inner\")\n",
    "\n",
    "explore_dataset(\n",
    "    df_an\n",
    "    , (\"user_id\",)\n",
    "    , {\n",
    "        \"user_id\": int\n",
    "        , \"timestamp\": \"datetime64[ns]\"\n",
    "        , \"group\": object\n",
    "        , \"landing_page\": object\n",
    "        , \"converted\": int\n",
    "    }\n",
    ")"
   ]
  },
  {
   "cell_type": "code",
   "execution_count": 12,
   "id": "76ab9a57",
   "metadata": {},
   "outputs": [
    {
     "data": {
      "text/html": [
       "<div>\n",
       "<style scoped>\n",
       "    .dataframe tbody tr th:only-of-type {\n",
       "        vertical-align: middle;\n",
       "    }\n",
       "\n",
       "    .dataframe tbody tr th {\n",
       "        vertical-align: top;\n",
       "    }\n",
       "\n",
       "    .dataframe thead th {\n",
       "        text-align: right;\n",
       "    }\n",
       "</style>\n",
       "<table border=\"1\" class=\"dataframe\">\n",
       "  <thead>\n",
       "    <tr style=\"text-align: right;\">\n",
       "      <th></th>\n",
       "      <th>group</th>\n",
       "      <th>converted</th>\n",
       "    </tr>\n",
       "  </thead>\n",
       "  <tbody>\n",
       "    <tr>\n",
       "      <th>0</th>\n",
       "      <td>control</td>\n",
       "      <td>0</td>\n",
       "    </tr>\n",
       "    <tr>\n",
       "      <th>1</th>\n",
       "      <td>control</td>\n",
       "      <td>0</td>\n",
       "    </tr>\n",
       "    <tr>\n",
       "      <th>2</th>\n",
       "      <td>treatment</td>\n",
       "      <td>0</td>\n",
       "    </tr>\n",
       "    <tr>\n",
       "      <th>3</th>\n",
       "      <td>treatment</td>\n",
       "      <td>0</td>\n",
       "    </tr>\n",
       "    <tr>\n",
       "      <th>4</th>\n",
       "      <td>control</td>\n",
       "      <td>1</td>\n",
       "    </tr>\n",
       "  </tbody>\n",
       "</table>\n",
       "</div>"
      ],
      "text/plain": [
       "       group  converted\n",
       "0    control          0\n",
       "1    control          0\n",
       "2  treatment          0\n",
       "3  treatment          0\n",
       "4    control          1"
      ]
     },
     "execution_count": 12,
     "metadata": {},
     "output_type": "execute_result"
    }
   ],
   "source": [
    "df_fin = df_an[[\"landing_page\", \"converted\"]].rename(columns = {\"landing_page\": \"group\"})\n",
    "df_fin[\"group\"] = df_fin[\"group\"].apply(lambda x: \"control\" if x == \"old_page\" else \"treatment\")\n",
    "df_fin.head()"
   ]
  },
  {
   "cell_type": "markdown",
   "id": "bc4e1976",
   "metadata": {},
   "source": [
    "For now we're ready for the analysis."
   ]
  },
  {
   "cell_type": "markdown",
   "id": "d1800896",
   "metadata": {},
   "source": [
    "# Analysis\n",
    "\n",
    "Here we perform two-tailed unpaired z-test for proportions."
   ]
  },
  {
   "cell_type": "code",
   "execution_count": 18,
   "id": "7eec3176",
   "metadata": {},
   "outputs": [],
   "source": [
    "class StatTestProportionTwoSamples():\n",
    "    def __init__(\n",
    "        self\n",
    "        , data_a\n",
    "        , data_b\n",
    "        , tails = 1\n",
    "        , alpha = 0.05\n",
    "    ):\n",
    "        \"\"\"\n",
    "        This class is for unpaired test of two groups with binomial distribution\n",
    "        \"\"\"\n",
    "        try:\n",
    "            #samples data\n",
    "            self.array_a, self.array_b = np.array(data_a), np.array(data_b)\n",
    "            if len(self.array_a) == 0 or len(self.array_b) == 0:\n",
    "                raise ValueError(\"No data in array\")\n",
    "\n",
    "            #test parameters\n",
    "            self.tails = tails\n",
    "            if self.tails not in (1, 2):\n",
    "                raise ValueError(\"tails must be 1 or 2\")\n",
    "\n",
    "            self.alpha = alpha\n",
    "            self.z_critical = (norm.ppf(1 - alpha) \n",
    "                                if self.tails == 1\n",
    "                                else norm.ppf(1 - alpha / 2))\n",
    "            \n",
    "        except:\n",
    "            print(\"Incorrect data format\")\n",
    "\n",
    "    def sample_stats(self):\n",
    "        #samples size\n",
    "        self.size_a, self.size_b = len(self.array_a), len(self.array_b)\n",
    "            \n",
    "        #samples mean\n",
    "        self.mean_a, self.mean_b = np.mean(self.array_a), np.mean(self.array_b)\n",
    "        \n",
    "        #variance\n",
    "        self.var_a, self.var_b = (self.mean_a * (1 - self.mean_a)\n",
    "                                , self.mean_b * (1 - self.mean_b))\n",
    "        \n",
    "        #st dev\n",
    "        self.std_a, self.std_b = (np.sqrt(self.mean_a * (1 - self.mean_a))\n",
    "                                , np.sqrt(self.mean_b * (1 - self.mean_b)))\n",
    "\n",
    "        #st errors\n",
    "        self.st_err_a, self.st_err_b = (np.sqrt(self.mean_a * (1 - self.mean_a) / self.size_a)\n",
    "                                    , np.sqrt(self.mean_b * (1 - self.mean_b) / self.size_b))\n",
    "\n",
    "        #common st err \n",
    "        self.st_err_pooled = np.sqrt(self.st_err_a**2 + self.st_err_b**2)\n",
    "        \n",
    "        #confidence intervals\n",
    "        ci_level = 0.95\n",
    "        z_value = norm.ppf(1 - (1 - ci_level) / 2)\n",
    "        self.ci_left_a, self.ci_right_a = (self.mean_a - z_value * self.st_err_a\n",
    "                                        , self.mean_a + z_value * self.st_err_a)\n",
    "        self.ci_left_b, self.ci_right_b = (self.mean_b - z_value * self.st_err_b\n",
    "                                        , self.mean_b + z_value * self.st_err_b)\n",
    "        print(f\"\"\"\n",
    "Sample A:\n",
    "Size: {self.size_a}\n",
    "Mean: {self.mean_a:.4f}, [{self.ci_left_a:.4f}, {self.ci_right_a:.4f}] CI 95%\n",
    "Variance: {self.var_a:.6f}\n",
    "Standard deviation: {self.std_a:.6f}\n",
    "Standart error: {self.st_err_a:.6f}\n",
    "\n",
    "Sample B:\n",
    "Size: {self.size_b}\n",
    "Mean: {self.mean_b:.4f}, [{self.ci_left_b:.4f}, {self.ci_right_b:.4f}] CI 95%\n",
    "Variance: {self.var_b:.6f}\n",
    "Standard deviation: {self.std_b:.6f}\n",
    "Standart error: {self.st_err_b:.6f}\n",
    "\"\"\")\n",
    "\n",
    "    def check_variances(self):\n",
    "        if self.var_a / self.var_b < 2 and self.var_b / self.var_a < 2:\n",
    "            print(f\"\"\"\n",
    "Variance check: Ok! \n",
    "{self.var_a:.4f} and {self.var_b:.4f} are close enough by Rule of Thumb\n",
    "\"\"\")\n",
    "        else:\n",
    "            print(f\"\"\"\n",
    "Variance check: Not ok! \n",
    "{self.var_a:.4f} and {self.var_b:.4f} are NOT close enough by Rule of Thumb\n",
    "\"\"\")\n",
    "    \n",
    "    def check_normality(self):\n",
    "        n_a = self.size_a\n",
    "        n_b = self.size_b\n",
    "        p_a = self.mean_a\n",
    "        p_b = self.mean_b\n",
    "        np_nq_values = [\n",
    "            n_a * p_a\n",
    "            , n_a * (1 - p_a)\n",
    "            , n_b * p_b\n",
    "            , n_b * (1 - p_b)\n",
    "        ]\n",
    "        if any(value < 5 for value in np_nq_values):\n",
    "            print(f\"\"\"\n",
    "Normality check: Not ok! \n",
    "The normal approximation is NOT appliable to the binomial distribution.\n",
    "Some of np and nq are < 5: {np_nq_values}\n",
    "We need to have a larger sample or more positive outcomes.\\n\"\"\")\n",
    "        else:\n",
    "            print(f\"\"\"\n",
    "Normality check: Ok! \n",
    "The normal approximation is appliable to the binomial distribution.\n",
    "All np and nq are >= 5: {np_nq_values}\\n\"\"\")\n",
    "            \n",
    "    def test_stats(self):\n",
    "        \"\"\"\n",
    "        Calculating z-statistics and p-value\n",
    "        \"\"\"\n",
    "        self.SE = (np.sqrt(\n",
    "                    self.mean_a * (1 - self.mean_a) / self.size_a \n",
    "                    + self.mean_b * (1 - self.mean_b) / self.size_b))\n",
    "        self.z_score = (self.mean_a - self.mean_b) / self.SE\n",
    "        self.z_critical = (self.z_critical \n",
    "                            if self.z_score >=0\n",
    "                            else -self.z_critical)\n",
    "        self.p_value = (1 - norm.cdf(abs(self.z_score)) \n",
    "                            if self.tails == 1\n",
    "                            else 2 * (1 - norm.cdf(abs(self.z_score))))\n",
    "        \n",
    "        if self.p_value < self.alpha:\n",
    "            reject = \"Reject H0\"\n",
    "        else:\n",
    "            reject = \"Fail to reject H0\"\n",
    "        \n",
    "        print(f\"\"\"\n",
    "SE: {self.SE:.5f}\n",
    "z_score: {self.z_score:.5f}\n",
    "z_critical: {self.z_critical:.5f}\n",
    "p_value: {self.p_value:.10f}\n",
    "\n",
    "Conclusion: {reject}\n",
    "\"\"\")\n",
    "        \n",
    "    def samples_plot(self, color_a = 'blue', color_b = 'orange'):\n",
    "        \"\"\"\n",
    "        Visualization of two probability density functions for normal distributions\n",
    "        with confidence intervals\n",
    "        \"\"\"\n",
    "        \n",
    "        #x range for linspace\n",
    "        threshold_a_upper = self.mean_a + self.z_critical * self.st_err_a\n",
    "        threshold_a_lower = (self.mean_a - self.z_critical * self.st_err_a \n",
    "                                if self.tails == 2\n",
    "                                else self.mean_a)\n",
    "        threshold_b_upper = self.mean_b + self.z_critical * self.st_err_b\n",
    "        threshold_b_lower = (self.mean_b - self.z_critical * self.st_err_b \n",
    "                                if self.tails == 2\\\n",
    "                                else self.mean_b)\n",
    "\n",
    "        lin_start = min(self.ci_left_a, self.ci_left_b\n",
    "                        , threshold_a_lower, threshold_b_lower) - 0.001\n",
    "        lin_end = max(self.ci_right_a, self.ci_right_b\n",
    "                      , threshold_a_upper, threshold_b_upper) + 0.001\n",
    "        x = np.linspace(lin_start, lin_end, 1000)\n",
    "\n",
    "        #normal distribution\n",
    "        pdf_a = norm.pdf(x, self.mean_a, self.st_err_a)\n",
    "        pdf_b = norm.pdf(x, self.mean_b, self.st_err_b)\n",
    "\n",
    "        fig, ax = plt.subplots(figsize=(10, 6))\n",
    "\n",
    "        ax.plot(x, pdf_a, label = 'Group A', color = color_a, linewidth = 2)\n",
    "        ax.plot(x, pdf_b, label = 'Group B', color = color_b, linewidth = 2)\n",
    "\n",
    "        #means\n",
    "        ax.axvline(self.mean_a, color = color_a, linestyle='--', linewidth=2\n",
    "                   , label=f'Mean A {self.mean_a:.4f}')\n",
    "        ax.axvline(self.mean_b, color = color_b, linestyle='--', linewidth=2\n",
    "                   , label=f'Mean B {self.mean_b:.4f}')\n",
    "\n",
    "        #ci\n",
    "        ax.axvline(self.ci_left_a, color = color_a, linestyle=':', linewidth=1)\n",
    "        ax.axvline(self.ci_right_a, color = color_a, linestyle=':', linewidth=1\n",
    "                   , label=f'CI A [{self.ci_left_a:.4f}, {self.ci_right_a:.4f}]')\n",
    "        ax.axvline(self.ci_left_b, color = color_b, linestyle=':', linewidth=1)\n",
    "        ax.axvline(self.ci_right_b, color = color_b, linestyle=':', linewidth=1\n",
    "                   , label=f'CI B [{self.ci_left_b:.4f}, {self.ci_right_b:.4f}]')        \n",
    "        \n",
    "        ax.set_xlabel('Proportion')\n",
    "        ax.set_ylabel('Density')\n",
    "        ax.set_title('Normal Distributions of Proportions for Group A and B')\n",
    "        ax.legend()\n",
    "\n",
    "        plt.show()                \n",
    "\n",
    "    \n",
    "    def z_stat_plot(self):\n",
    "        \"\"\"\n",
    "        Distribution of Z-statistics\n",
    "        \"\"\"\n",
    "        x_z = np.linspace(-4, 4, 1000)\n",
    "        pdf_z = norm.pdf(x_z, 0, 1)\n",
    "\n",
    "        fig, ax = plt.subplots(figsize=(10, 6))\n",
    "\n",
    "        ax.plot(x_z, pdf_z, label = \"Standard Normal Distribution\", color = 'black')\n",
    "\n",
    "        #alpha region for significance\n",
    "        if self.tails == 1:\n",
    "            ax.fill_between(x_z, 0, pdf_z\n",
    "                            , where=(x_z >= self.z_critical)\n",
    "                            , color = 'red', alpha = 0.2\n",
    "                            , label = \"Alpha Region (Significance Level)\")\n",
    "        else:\n",
    "            ax.fill_between(x_z, 0, pdf_z\n",
    "                            , where=(x_z >= self.z_critical) | (x_z <= -self.z_critical)\n",
    "                            , color = 'red', alpha = 0.2\n",
    "                            , label = \"Alpha Region (Significance Level)\")\n",
    "\n",
    "        #calculated z-score\n",
    "        ax.axvline(self.z_score, color='purple', linestyle='-', linewidth=2\n",
    "                   , label=f'Calculated Z-Score = {self.z_score:.2f}')\n",
    "\n",
    "        #critical z-score\n",
    "        ax.axvline(self.z_critical, color='blue', linestyle='--', linewidth=1.5\n",
    "                   , label=f'Critical Z-Score = {self.z_critical:.2f}')\n",
    "        if self.tails == 2:\n",
    "            ax.axvline(-self.z_critical, color='blue', linestyle='--', linewidth=1.5)\n",
    "\n",
    "        ax.set_xlabel('Z-Score')\n",
    "        ax.set_ylabel('Density')\n",
    "        ax.set_title('Z-Statistic Distribution for Two Proportions Comparison')\n",
    "        ax.legend()\n",
    "\n",
    "        plt.show()\n",
    "            \n",
    "    def output_data(self):\n",
    "        \"\"\"\n",
    "        All related data as a dict\n",
    "        \"\"\"\n",
    "        out = {\n",
    "            \"size_a\": self.size_a\n",
    "            , \"mean_a\": self.mean_a\n",
    "            , \"var_a\": self.var_a\n",
    "            , \"std_a\": self.std_a\n",
    "            , \"st_err_a\": self.st_err_a\n",
    "            , \"ci_a\": [self.ci_left_a, self.ci_right_a]\n",
    "            , \"size_b\": self.size_b\n",
    "            , \"mean_b\": self.mean_b\n",
    "            , \"var_b\": self.var_b\n",
    "            , \"std_b\": self.std_b\n",
    "            , \"st_err_b\": self.st_err_b\n",
    "            , \"ci_b\": [self.ci_left_b, self.ci_right_b]\n",
    "            , \"se\": self.SE\n",
    "            , \"z_score\": self.z_score\n",
    "            , \"z_critical\": self.z_critical\n",
    "            , \"p_value\": self.p_value\n",
    "        }\n",
    "        return out"
   ]
  },
  {
   "cell_type": "markdown",
   "id": "92ee405f",
   "metadata": {},
   "source": [
    "## Samples statistics\n",
    "\n",
    "Calculating sample_size, mean, variation and standart error for each group."
   ]
  },
  {
   "cell_type": "code",
   "execution_count": 19,
   "id": "4d503821",
   "metadata": {},
   "outputs": [
    {
     "name": "stdout",
     "output_type": "stream",
     "text": [
      "\n",
      "Sample A:\n",
      "Size: 145293\n",
      "Mean: 0.1205, [0.1188, 0.1222] CI 95%\n",
      "Variation: 0.105991\n",
      "Standard deviation: 0.000854\n",
      "Standart error: 0.000854\n",
      "\n",
      "Sample B:\n",
      "Size: 145291\n",
      "Mean: 0.1187, [0.1171, 0.1204] CI 95%\n",
      "Variation: 0.104636\n",
      "Standard deviation: 0.000849\n",
      "Standart error: 0.000849\n",
      "\n"
     ]
    }
   ],
   "source": [
    "group_a = df_fin[df_fin[\"group\"] == \"control\"][\"converted\"]\n",
    "group_b = df_fin[df_fin[\"group\"] == \"treatment\"][\"converted\"]\n",
    "\n",
    "f = StatTestProportionTwoSamples(group_a, group_b, tails = 2)\n",
    "f.sample_stats()"
   ]
  },
  {
   "cell_type": "markdown",
   "id": "a29e0c0e",
   "metadata": {},
   "source": [
    "## Normality check\n",
    "\n",
    "Check if normal approximation is available"
   ]
  },
  {
   "cell_type": "code",
   "execution_count": 20,
   "id": "c45ed0b7",
   "metadata": {},
   "outputs": [
    {
     "name": "stdout",
     "output_type": "stream",
     "text": [
      "\n",
      "Normality check: Ok! \n",
      "The normal approximation is appliable to the binomial distribution.\n",
      "All np and nq are >= 5: [17510.0, 127783.0, 17251.0, 128040.0]\n",
      "\n"
     ]
    }
   ],
   "source": [
    "f.check_normality()"
   ]
  },
  {
   "cell_type": "markdown",
   "id": "3d0cf431",
   "metadata": {},
   "source": [
    "## Variances check\n",
    "\n",
    "Confirm similarity of variances"
   ]
  },
  {
   "cell_type": "code",
   "execution_count": 21,
   "id": "ea02a48b",
   "metadata": {},
   "outputs": [
    {
     "name": "stdout",
     "output_type": "stream",
     "text": [
      "\n",
      "Variance check: Ok! \n",
      "0.1060 and 0.1046 are close enough by Rule of Thumb\n",
      "\n"
     ]
    }
   ],
   "source": [
    "f.check_variances()"
   ]
  },
  {
   "cell_type": "markdown",
   "id": "fb7f7ea6",
   "metadata": {},
   "source": [
    "## Test statistics"
   ]
  },
  {
   "cell_type": "code",
   "execution_count": 22,
   "id": "60859540",
   "metadata": {},
   "outputs": [
    {
     "name": "stdout",
     "output_type": "stream",
     "text": [
      "\n",
      "SE: 0.00120\n",
      "z_score: 1.47918\n",
      "z_critical: 1.95996\n",
      "p_value: 0.1390931645\n",
      "\n",
      "Conclusion: Fail to reject H0\n",
      "\n"
     ]
    }
   ],
   "source": [
    "f.test_stats()"
   ]
  },
  {
   "cell_type": "markdown",
   "id": "a1c918fe",
   "metadata": {},
   "source": [
    "So, we fail to reject H0 according calculated p-value, let's visualize why."
   ]
  },
  {
   "cell_type": "markdown",
   "id": "4f140887",
   "metadata": {},
   "source": [
    "## Samples distribution\n",
    "\n",
    "Basically we'd like confidence intervals not overlap (areas between the thin dashed lines)."
   ]
  },
  {
   "cell_type": "code",
   "execution_count": 23,
   "id": "f3e44248",
   "metadata": {},
   "outputs": [
    {
     "data": {
      "image/png": "[encoded data removed]",
      "text/plain": [
       "<Figure size 1000x600 with 1 Axes>"
      ]
     },
     "metadata": {},
     "output_type": "display_data"
    }
   ],
   "source": [
    "f.samples_plot()"
   ]
  },
  {
   "cell_type": "markdown",
   "id": "726c7dde",
   "metadata": {},
   "source": [
    "## Z-statistics distribution"
   ]
  },
  {
   "cell_type": "markdown",
   "id": "9731e580",
   "metadata": {},
   "source": [
    "Basically we'd like to see calculated z-score out of critical z borders."
   ]
  },
  {
   "cell_type": "code",
   "execution_count": 24,
   "id": "fe543ece",
   "metadata": {},
   "outputs": [
    {
     "data": {
      "image/png": "[encoded data removed]",
      "text/plain": [
       "<Figure size 1000x600 with 1 Axes>"
      ]
     },
     "metadata": {},
     "output_type": "display_data"
    }
   ],
   "source": [
    "f.z_stat_plot()"
   ]
  }
 ],
 "metadata": {
  "kernelspec": {
   "display_name": "Python 3 (ipykernel)",
   "language": "python",
   "name": "python3"
  },
  "language_info": {
   "codemirror_mode": {
    "name": "ipython",
    "version": 3
   },
   "file_extension": ".py",
   "mimetype": "text/x-python",
   "name": "python",
   "nbconvert_exporter": "python",
   "pygments_lexer": "ipython3",
   "version": "3.9.13"
  }
 },
 "nbformat": 4,
 "nbformat_minor": 5
}
